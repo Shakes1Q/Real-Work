{
 "cells": [
  {
   "cell_type": "code",
   "execution_count": 112,
   "id": "8e64830d",
   "metadata": {},
   "outputs": [],
   "source": [
    "import pandas as pd\n",
    "pd.options.mode.chained_assignment = None  # default='warn'"
   ]
  },
  {
   "cell_type": "code",
   "execution_count": 113,
   "id": "fc232f3b",
   "metadata": {},
   "outputs": [],
   "source": [
    "finance = pd.read_csv(r\"C:\\Users\\frank\\Desktop\\Shakes\\FinanceData.csv\")"
   ]
  },
  {
   "cell_type": "code",
   "execution_count": 229,
   "id": "6dfc028b",
   "metadata": {},
   "outputs": [
    {
     "data": {
      "text/html": [
       "<div>\n",
       "<style scoped>\n",
       "    .dataframe tbody tr th:only-of-type {\n",
       "        vertical-align: middle;\n",
       "    }\n",
       "\n",
       "    .dataframe tbody tr th {\n",
       "        vertical-align: top;\n",
       "    }\n",
       "\n",
       "    .dataframe thead th {\n",
       "        text-align: right;\n",
       "    }\n",
       "</style>\n",
       "<table border=\"1\" class=\"dataframe\">\n",
       "  <thead>\n",
       "    <tr style=\"text-align: right;\">\n",
       "      <th></th>\n",
       "      <th>Segment</th>\n",
       "      <th>Country</th>\n",
       "      <th>Product</th>\n",
       "      <th>Discount Band</th>\n",
       "      <th>Units Sold</th>\n",
       "      <th>Manufacturing Price</th>\n",
       "      <th>Sale Price</th>\n",
       "      <th>Gross Sales</th>\n",
       "      <th>Discounts</th>\n",
       "      <th>Sales</th>\n",
       "      <th>COGS (Cost of Goods sold)</th>\n",
       "      <th>Profit</th>\n",
       "      <th>Date</th>\n",
       "      <th>Month Number</th>\n",
       "      <th>Month Name</th>\n",
       "      <th>Year</th>\n",
       "      <th>New Discounts</th>\n",
       "    </tr>\n",
       "  </thead>\n",
       "  <tbody>\n",
       "    <tr>\n",
       "      <th>0</th>\n",
       "      <td>Government</td>\n",
       "      <td>Canada</td>\n",
       "      <td>Carretera</td>\n",
       "      <td>None</td>\n",
       "      <td>1618.5</td>\n",
       "      <td>$3.00</td>\n",
       "      <td>$20.00</td>\n",
       "      <td>$32,370.00</td>\n",
       "      <td>$-</td>\n",
       "      <td>$32,370.00</td>\n",
       "      <td>$16,185.00</td>\n",
       "      <td>$16,185.00</td>\n",
       "      <td>1/1/2014</td>\n",
       "      <td>1</td>\n",
       "      <td>January</td>\n",
       "      <td>2014</td>\n",
       "      <td>$32,370.00  $32,370.00</td>\n",
       "    </tr>\n",
       "    <tr>\n",
       "      <th>1</th>\n",
       "      <td>Government</td>\n",
       "      <td>Germany</td>\n",
       "      <td>Carretera</td>\n",
       "      <td>None</td>\n",
       "      <td>1321.0</td>\n",
       "      <td>$3.00</td>\n",
       "      <td>$20.00</td>\n",
       "      <td>$26,420.00</td>\n",
       "      <td>$-</td>\n",
       "      <td>$26,420.00</td>\n",
       "      <td>$13,210.00</td>\n",
       "      <td>$13,210.00</td>\n",
       "      <td>1/1/2014</td>\n",
       "      <td>1</td>\n",
       "      <td>January</td>\n",
       "      <td>2014</td>\n",
       "      <td>$26,420.00  $26,420.00</td>\n",
       "    </tr>\n",
       "    <tr>\n",
       "      <th>2</th>\n",
       "      <td>Midmarket</td>\n",
       "      <td>France</td>\n",
       "      <td>Carretera</td>\n",
       "      <td>None</td>\n",
       "      <td>2178.0</td>\n",
       "      <td>$3.00</td>\n",
       "      <td>$15.00</td>\n",
       "      <td>$32,670.00</td>\n",
       "      <td>$-</td>\n",
       "      <td>$32,670.00</td>\n",
       "      <td>$21,780.00</td>\n",
       "      <td>$10,890.00</td>\n",
       "      <td>6/1/2014</td>\n",
       "      <td>6</td>\n",
       "      <td>June</td>\n",
       "      <td>2014</td>\n",
       "      <td>$32,670.00  $32,670.00</td>\n",
       "    </tr>\n",
       "  </tbody>\n",
       "</table>\n",
       "</div>"
      ],
      "text/plain": [
       "      Segment  Country     Product   Discount Band   Units Sold  \\\n",
       "0  Government   Canada   Carretera            None       1618.5   \n",
       "1  Government  Germany   Carretera            None       1321.0   \n",
       "2   Midmarket   France   Carretera            None       2178.0   \n",
       "\n",
       "   Manufacturing Price   Sale Price   Gross Sales   Discounts         Sales   \\\n",
       "0                $3.00       $20.00    $32,370.00        $-      $32,370.00    \n",
       "1                $3.00       $20.00    $26,420.00        $-      $26,420.00    \n",
       "2                $3.00       $15.00    $32,670.00        $-      $32,670.00    \n",
       "\n",
       "   COGS (Cost of Goods sold)        Profit       Date  Month Number  \\\n",
       "0                 $16,185.00    $16,185.00   1/1/2014             1   \n",
       "1                 $13,210.00    $13,210.00   1/1/2014             1   \n",
       "2                 $21,780.00    $10,890.00   6/1/2014             6   \n",
       "\n",
       "   Month Name   Year             New Discounts  \n",
       "0     January   2014   $32,370.00  $32,370.00   \n",
       "1     January   2014   $26,420.00  $26,420.00   \n",
       "2        June   2014   $32,670.00  $32,670.00   "
      ]
     },
     "execution_count": 229,
     "metadata": {},
     "output_type": "execute_result"
    }
   ],
   "source": [
    "finance.head(3)"
   ]
  },
  {
   "cell_type": "code",
   "execution_count": 119,
   "id": "7cec99c1",
   "metadata": {},
   "outputs": [],
   "source": [
    "### Checking for null values\n",
    "nan_df = finance[finance.isna().any(axis=1)]\n",
    "##nan_df.head()"
   ]
  },
  {
   "cell_type": "code",
   "execution_count": 19,
   "id": "0dae0052",
   "metadata": {},
   "outputs": [],
   "source": [
    "### Checking for duplicates values\n",
    "duplicates = df[df.duplicated(subset=['Segment'], keep=False)]\n",
    "\n",
    "if not duplicates.empty:\n",
    "    print(\"Duplicate rows:\")\n",
    "    print(duplicates)\n",
    "else:\n",
    "    print(\"No duplicates found\")"
   ]
  },
  {
   "cell_type": "code",
   "execution_count": 38,
   "id": "1ba0295a",
   "metadata": {},
   "outputs": [],
   "source": [
    "df = pd.DataFrame(finance)\n",
    "\n",
    "# Print the schema using .info()\n",
    "##df.info()"
   ]
  },
  {
   "cell_type": "code",
   "execution_count": 84,
   "id": "cf76c54a",
   "metadata": {},
   "outputs": [
    {
     "name": "stdout",
     "output_type": "stream",
     "text": [
      "Index(['Segment', 'Country', 'Product', 'Discount Band', 'Units Sold',\n",
      "       'Manufacturing Price', 'Sale Price', 'Gross Sales', 'Discounts',\n",
      "       '  Sales ', 'COGS (Cost of Goods sold)', 'Profit', 'Date',\n",
      "       'Month Number', 'Month Name', 'Year'],\n",
      "      dtype='object')\n"
     ]
    }
   ],
   "source": [
    "print(df.columns)"
   ]
  },
  {
   "cell_type": "code",
   "execution_count": 12,
   "id": "783a8659",
   "metadata": {},
   "outputs": [
    {
     "data": {
      "text/plain": [
       "0    1\n",
       "1    1\n",
       "2    6\n",
       "3    6\n",
       "4    6\n",
       "Name: Month Number, dtype: int64"
      ]
     },
     "execution_count": 12,
     "metadata": {},
     "output_type": "execute_result"
    }
   ],
   "source": [
    "name_column = df['Month Number']\n",
    "name_column.head(5)"
   ]
  },
  {
   "cell_type": "code",
   "execution_count": 146,
   "id": "dd971be4",
   "metadata": {},
   "outputs": [
    {
     "data": {
      "text/plain": [
       "Segment                       object\n",
       "Country                       object\n",
       "Product                       object\n",
       "Discount Band                 object\n",
       "Units Sold                   float64\n",
       "Manufacturing Price           object\n",
       "Sale Price                    object\n",
       "Gross Sales                   object\n",
       "Discounts                     object\n",
       "  Sales                       object\n",
       "COGS (Cost of Goods sold)     object\n",
       "Profit                        object\n",
       "Date                          object\n",
       "Month Number                   int64\n",
       "Month Name                    object\n",
       "Year                           int64\n",
       "dtype: object"
      ]
     },
     "execution_count": 146,
     "metadata": {},
     "output_type": "execute_result"
    }
   ],
   "source": [
    "#Display column datatype\n",
    "df.dtypes"
   ]
  },
  {
   "cell_type": "code",
   "execution_count": 122,
   "id": "2f256f17",
   "metadata": {},
   "outputs": [],
   "source": [
    "v1 = lambda x:float(x[1:-1])"
   ]
  },
  {
   "cell_type": "code",
   "execution_count": 125,
   "id": "0a99c722",
   "metadata": {},
   "outputs": [],
   "source": [
    "##df.Profit=df.Profit.apply(v1)"
   ]
  },
  {
   "cell_type": "code",
   "execution_count": 141,
   "id": "dfc2c3e1",
   "metadata": {},
   "outputs": [
    {
     "data": {
      "text/plain": [
       "dtype('O')"
      ]
     },
     "execution_count": 141,
     "metadata": {},
     "output_type": "execute_result"
    }
   ],
   "source": [
    "df.Date.dtypes"
   ]
  },
  {
   "cell_type": "code",
   "execution_count": 137,
   "id": "27e4702a",
   "metadata": {},
   "outputs": [],
   "source": [
    "## Remove space before Column names\n",
    "df.rename(columns={'Sales':'Sales'}, inplace=True)"
   ]
  },
  {
   "cell_type": "code",
   "execution_count": 151,
   "id": "d7c3aa10",
   "metadata": {},
   "outputs": [],
   "source": [
    "##data_= finance.replace('[{^\\d.}]', '', regex=True).astype(float)"
   ]
  },
  {
   "cell_type": "markdown",
   "id": "af3ca5cf",
   "metadata": {},
   "source": [
    "## 1. Identify the month where most Units were sold?"
   ]
  },
  {
   "cell_type": "code",
   "execution_count": 170,
   "id": "0b4dd52d",
   "metadata": {
    "scrolled": false
   },
   "outputs": [],
   "source": [
    "results = finance.groupby('Month Number').sum(numeric_only=True).head(12)\n",
    "## October was the month where more Units were sold: (201104 Units sold) "
   ]
  },
  {
   "cell_type": "code",
   "execution_count": 168,
   "id": "94e22bc4",
   "metadata": {},
   "outputs": [
    {
     "data": {
      "image/png": "[encoded data removed]",
      "text/plain": [
       "<Figure size 640x480 with 1 Axes>"
      ]
     },
     "metadata": {},
     "output_type": "display_data"
    }
   ],
   "source": [
    "import matplotlib.pyplot as plt\n",
    "months = range(1,13)\n",
    "\n",
    "plt.bar(months, results['Units Sold'])\n",
    "plt.xticks(months)\n",
    "plt.ylabel('Units sold in USD ($)')\n",
    "plt.xlabel('Month number')\n",
    "plt.ticklabel_format(style='plain', axis='y')\n",
    "plt.show()"
   ]
  },
  {
   "cell_type": "markdown",
   "id": "f29aed0b",
   "metadata": {},
   "source": [
    "### 2. Which country generated more Profit?"
   ]
  },
  {
   "cell_type": "code",
   "execution_count": 180,
   "id": "0ac1202f",
   "metadata": {},
   "outputs": [
    {
     "data": {
      "text/html": [
       "<div>\n",
       "<style scoped>\n",
       "    .dataframe tbody tr th:only-of-type {\n",
       "        vertical-align: middle;\n",
       "    }\n",
       "\n",
       "    .dataframe tbody tr th {\n",
       "        vertical-align: top;\n",
       "    }\n",
       "\n",
       "    .dataframe thead th {\n",
       "        text-align: right;\n",
       "    }\n",
       "</style>\n",
       "<table border=\"1\" class=\"dataframe\">\n",
       "  <thead>\n",
       "    <tr style=\"text-align: right;\">\n",
       "      <th></th>\n",
       "      <th>Units Sold</th>\n",
       "      <th>Month Number</th>\n",
       "      <th>Year</th>\n",
       "    </tr>\n",
       "    <tr>\n",
       "      <th>Country</th>\n",
       "      <th></th>\n",
       "      <th></th>\n",
       "      <th></th>\n",
       "    </tr>\n",
       "  </thead>\n",
       "  <tbody>\n",
       "    <tr>\n",
       "      <th>Canada</th>\n",
       "      <td>247428.5</td>\n",
       "      <td>1106</td>\n",
       "      <td>281925</td>\n",
       "    </tr>\n",
       "    <tr>\n",
       "      <th>France</th>\n",
       "      <td>240931.0</td>\n",
       "      <td>1106</td>\n",
       "      <td>281925</td>\n",
       "    </tr>\n",
       "    <tr>\n",
       "      <th>Germany</th>\n",
       "      <td>201494.0</td>\n",
       "      <td>1106</td>\n",
       "      <td>281925</td>\n",
       "    </tr>\n",
       "    <tr>\n",
       "      <th>Mexico</th>\n",
       "      <td>203325.0</td>\n",
       "      <td>1106</td>\n",
       "      <td>281925</td>\n",
       "    </tr>\n",
       "    <tr>\n",
       "      <th>United States of America</th>\n",
       "      <td>232627.5</td>\n",
       "      <td>1106</td>\n",
       "      <td>281925</td>\n",
       "    </tr>\n",
       "  </tbody>\n",
       "</table>\n",
       "</div>"
      ],
      "text/plain": [
       "                          Units Sold  Month Number    Year\n",
       "Country                                                   \n",
       "Canada                      247428.5          1106  281925\n",
       "France                      240931.0          1106  281925\n",
       "Germany                     201494.0          1106  281925\n",
       "Mexico                      203325.0          1106  281925\n",
       "United States of America    232627.5          1106  281925"
      ]
     },
     "execution_count": 180,
     "metadata": {},
     "output_type": "execute_result"
    }
   ],
   "source": [
    "finance.groupby('Country').sum(numeric_only=True).head(12)\n",
    "## Canada is the country with most Units sold which generated more profit"
   ]
  },
  {
   "cell_type": "code",
   "execution_count": 193,
   "id": "ccdabab3",
   "metadata": {},
   "outputs": [],
   "source": [
    "#import matplotlib.pyplot as plt\n",
    "\n",
    "#Countries = [Country for Country, df in finance.groupby('Country')]\n",
    "\n",
    "#plt.bar(Countries, results['Units Sold'])\n",
    "#plt.xticks(Countries, rotation='horizontal', size=8)\n",
    "#plt.ylabel('Sales in USD ($)')\n",
    "#plt.xlabel('City name')\n",
    "#plt.ticklabel_format(style='plain', axis='y')\n",
    "#plt.show()"
   ]
  },
  {
   "cell_type": "markdown",
   "id": "1b7f904c",
   "metadata": {},
   "source": [
    "## 3. Which Products had the highest sales and lowest sales?"
   ]
  },
  {
   "cell_type": "code",
   "execution_count": 198,
   "id": "36581144",
   "metadata": {},
   "outputs": [
    {
     "data": {
      "text/html": [
       "<div>\n",
       "<style scoped>\n",
       "    .dataframe tbody tr th:only-of-type {\n",
       "        vertical-align: middle;\n",
       "    }\n",
       "\n",
       "    .dataframe tbody tr th {\n",
       "        vertical-align: top;\n",
       "    }\n",
       "\n",
       "    .dataframe thead th {\n",
       "        text-align: right;\n",
       "    }\n",
       "</style>\n",
       "<table border=\"1\" class=\"dataframe\">\n",
       "  <thead>\n",
       "    <tr style=\"text-align: right;\">\n",
       "      <th></th>\n",
       "      <th>Units Sold</th>\n",
       "      <th>Month Number</th>\n",
       "      <th>Year</th>\n",
       "    </tr>\n",
       "    <tr>\n",
       "      <th>Product</th>\n",
       "      <th></th>\n",
       "      <th></th>\n",
       "      <th></th>\n",
       "    </tr>\n",
       "  </thead>\n",
       "  <tbody>\n",
       "    <tr>\n",
       "      <th>Amarilla</th>\n",
       "      <td>155315.0</td>\n",
       "      <td>738</td>\n",
       "      <td>189293</td>\n",
       "    </tr>\n",
       "    <tr>\n",
       "      <th>Carretera</th>\n",
       "      <td>146846.0</td>\n",
       "      <td>737</td>\n",
       "      <td>187279</td>\n",
       "    </tr>\n",
       "    <tr>\n",
       "      <th>Montana</th>\n",
       "      <td>154198.0</td>\n",
       "      <td>721</td>\n",
       "      <td>187279</td>\n",
       "    </tr>\n",
       "    <tr>\n",
       "      <th>Paseo</th>\n",
       "      <td>338239.5</td>\n",
       "      <td>1603</td>\n",
       "      <td>406777</td>\n",
       "    </tr>\n",
       "    <tr>\n",
       "      <th>VTT</th>\n",
       "      <td>168783.0</td>\n",
       "      <td>872</td>\n",
       "      <td>219498</td>\n",
       "    </tr>\n",
       "  </tbody>\n",
       "</table>\n",
       "</div>"
      ],
      "text/plain": [
       "             Units Sold  Month Number    Year\n",
       " Product                                     \n",
       " Amarilla      155315.0           738  189293\n",
       " Carretera     146846.0           737  187279\n",
       " Montana       154198.0           721  187279\n",
       " Paseo         338239.5          1603  406777\n",
       " VTT           168783.0           872  219498"
      ]
     },
     "execution_count": 198,
     "metadata": {},
     "output_type": "execute_result"
    }
   ],
   "source": [
    "finance.groupby(' Product ').sum(numeric_only=True).head()\n",
    "## Paseo is the most sold Product and Carretera had the lowest sales"
   ]
  },
  {
   "cell_type": "markdown",
   "id": "ab146e8b",
   "metadata": {},
   "source": [
    "## 4. Calculate the discounts for Null cells"
   ]
  },
  {
   "cell_type": "code",
   "execution_count": null,
   "id": "e3bb87b8",
   "metadata": {},
   "outputs": [],
   "source": [
    "#all_data['Price Each']"
   ]
  },
  {
   "cell_type": "markdown",
   "id": "c03066ac",
   "metadata": {},
   "source": [
    "Add New Discount Column"
   ]
  },
  {
   "cell_type": "code",
   "execution_count": 231,
   "id": "1768ccb6",
   "metadata": {},
   "outputs": [
    {
     "data": {
      "text/html": [
       "<div>\n",
       "<style scoped>\n",
       "    .dataframe tbody tr th:only-of-type {\n",
       "        vertical-align: middle;\n",
       "    }\n",
       "\n",
       "    .dataframe tbody tr th {\n",
       "        vertical-align: top;\n",
       "    }\n",
       "\n",
       "    .dataframe thead th {\n",
       "        text-align: right;\n",
       "    }\n",
       "</style>\n",
       "<table border=\"1\" class=\"dataframe\">\n",
       "  <thead>\n",
       "    <tr style=\"text-align: right;\">\n",
       "      <th></th>\n",
       "      <th>Segment</th>\n",
       "      <th>Country</th>\n",
       "      <th>Product</th>\n",
       "      <th>Discount Band</th>\n",
       "      <th>Units Sold</th>\n",
       "      <th>Manufacturing Price</th>\n",
       "      <th>Sale Price</th>\n",
       "      <th>Gross Sales</th>\n",
       "      <th>Discounts</th>\n",
       "      <th>Sales</th>\n",
       "      <th>COGS (Cost of Goods sold)</th>\n",
       "      <th>Profit</th>\n",
       "      <th>Date</th>\n",
       "      <th>Month Number</th>\n",
       "      <th>Month Name</th>\n",
       "      <th>Year</th>\n",
       "      <th>New Discounts</th>\n",
       "    </tr>\n",
       "  </thead>\n",
       "  <tbody>\n",
       "    <tr>\n",
       "      <th>0</th>\n",
       "      <td>Government</td>\n",
       "      <td>Canada</td>\n",
       "      <td>Carretera</td>\n",
       "      <td>None</td>\n",
       "      <td>1618.5</td>\n",
       "      <td>$3.00</td>\n",
       "      <td>$20.00</td>\n",
       "      <td>$32,370.00</td>\n",
       "      <td>$-</td>\n",
       "      <td>$32,370.00</td>\n",
       "      <td>$16,185.00</td>\n",
       "      <td>$16,185.00</td>\n",
       "      <td>1/1/2014</td>\n",
       "      <td>1</td>\n",
       "      <td>January</td>\n",
       "      <td>2014</td>\n",
       "      <td>$32,370.00  $32,370.00</td>\n",
       "    </tr>\n",
       "    <tr>\n",
       "      <th>1</th>\n",
       "      <td>Government</td>\n",
       "      <td>Germany</td>\n",
       "      <td>Carretera</td>\n",
       "      <td>None</td>\n",
       "      <td>1321.0</td>\n",
       "      <td>$3.00</td>\n",
       "      <td>$20.00</td>\n",
       "      <td>$26,420.00</td>\n",
       "      <td>$-</td>\n",
       "      <td>$26,420.00</td>\n",
       "      <td>$13,210.00</td>\n",
       "      <td>$13,210.00</td>\n",
       "      <td>1/1/2014</td>\n",
       "      <td>1</td>\n",
       "      <td>January</td>\n",
       "      <td>2014</td>\n",
       "      <td>$26,420.00  $26,420.00</td>\n",
       "    </tr>\n",
       "    <tr>\n",
       "      <th>2</th>\n",
       "      <td>Midmarket</td>\n",
       "      <td>France</td>\n",
       "      <td>Carretera</td>\n",
       "      <td>None</td>\n",
       "      <td>2178.0</td>\n",
       "      <td>$3.00</td>\n",
       "      <td>$15.00</td>\n",
       "      <td>$32,670.00</td>\n",
       "      <td>$-</td>\n",
       "      <td>$32,670.00</td>\n",
       "      <td>$21,780.00</td>\n",
       "      <td>$10,890.00</td>\n",
       "      <td>6/1/2014</td>\n",
       "      <td>6</td>\n",
       "      <td>June</td>\n",
       "      <td>2014</td>\n",
       "      <td>$32,670.00  $32,670.00</td>\n",
       "    </tr>\n",
       "    <tr>\n",
       "      <th>3</th>\n",
       "      <td>Midmarket</td>\n",
       "      <td>Germany</td>\n",
       "      <td>Carretera</td>\n",
       "      <td>None</td>\n",
       "      <td>888.0</td>\n",
       "      <td>$3.00</td>\n",
       "      <td>$15.00</td>\n",
       "      <td>$13,320.00</td>\n",
       "      <td>$-</td>\n",
       "      <td>$13,320.00</td>\n",
       "      <td>$8,880.00</td>\n",
       "      <td>$4,440.00</td>\n",
       "      <td>6/1/2014</td>\n",
       "      <td>6</td>\n",
       "      <td>June</td>\n",
       "      <td>2014</td>\n",
       "      <td>$13,320.00  $13,320.00</td>\n",
       "    </tr>\n",
       "    <tr>\n",
       "      <th>4</th>\n",
       "      <td>Midmarket</td>\n",
       "      <td>Mexico</td>\n",
       "      <td>Carretera</td>\n",
       "      <td>None</td>\n",
       "      <td>2470.0</td>\n",
       "      <td>$3.00</td>\n",
       "      <td>$15.00</td>\n",
       "      <td>$37,050.00</td>\n",
       "      <td>$-</td>\n",
       "      <td>$37,050.00</td>\n",
       "      <td>$24,700.00</td>\n",
       "      <td>$12,350.00</td>\n",
       "      <td>6/1/2014</td>\n",
       "      <td>6</td>\n",
       "      <td>June</td>\n",
       "      <td>2014</td>\n",
       "      <td>$37,050.00  $37,050.00</td>\n",
       "    </tr>\n",
       "  </tbody>\n",
       "</table>\n",
       "</div>"
      ],
      "text/plain": [
       "      Segment  Country     Product   Discount Band   Units Sold  \\\n",
       "0  Government   Canada   Carretera            None       1618.5   \n",
       "1  Government  Germany   Carretera            None       1321.0   \n",
       "2   Midmarket   France   Carretera            None       2178.0   \n",
       "3   Midmarket  Germany   Carretera            None        888.0   \n",
       "4   Midmarket   Mexico   Carretera            None       2470.0   \n",
       "\n",
       "   Manufacturing Price   Sale Price   Gross Sales   Discounts         Sales   \\\n",
       "0                $3.00       $20.00    $32,370.00        $-      $32,370.00    \n",
       "1                $3.00       $20.00    $26,420.00        $-      $26,420.00    \n",
       "2                $3.00       $15.00    $32,670.00        $-      $32,670.00    \n",
       "3                $3.00       $15.00    $13,320.00        $-      $13,320.00    \n",
       "4                $3.00       $15.00    $37,050.00        $-      $37,050.00    \n",
       "\n",
       "   COGS (Cost of Goods sold)        Profit       Date  Month Number  \\\n",
       "0                 $16,185.00    $16,185.00   1/1/2014             1   \n",
       "1                 $13,210.00    $13,210.00   1/1/2014             1   \n",
       "2                 $21,780.00    $10,890.00   6/1/2014             6   \n",
       "3                  $8,880.00     $4,440.00   6/1/2014             6   \n",
       "4                 $24,700.00    $12,350.00   6/1/2014             6   \n",
       "\n",
       "   Month Name   Year             New Discounts  \n",
       "0     January   2014   $32,370.00  $32,370.00   \n",
       "1     January   2014   $26,420.00  $26,420.00   \n",
       "2        June   2014   $32,670.00  $32,670.00   \n",
       "3        June   2014   $13,320.00  $13,320.00   \n",
       "4        June   2014   $37,050.00  $37,050.00   "
      ]
     },
     "execution_count": 231,
     "metadata": {},
     "output_type": "execute_result"
    }
   ],
   "source": [
    "finance['New Discounts'] = finance[' Gross Sales '] * 2\n",
    "finance.head(5)"
   ]
  },
  {
   "cell_type": "code",
   "execution_count": null,
   "id": "54e36095",
   "metadata": {},
   "outputs": [],
   "source": []
  },
  {
   "cell_type": "code",
   "execution_count": 233,
   "id": "8e7fd15c",
   "metadata": {},
   "outputs": [
    {
     "data": {
      "text/html": [
       "<div>\n",
       "<style scoped>\n",
       "    .dataframe tbody tr th:only-of-type {\n",
       "        vertical-align: middle;\n",
       "    }\n",
       "\n",
       "    .dataframe tbody tr th {\n",
       "        vertical-align: top;\n",
       "    }\n",
       "\n",
       "    .dataframe thead th {\n",
       "        text-align: right;\n",
       "    }\n",
       "</style>\n",
       "<table border=\"1\" class=\"dataframe\">\n",
       "  <thead>\n",
       "    <tr style=\"text-align: right;\">\n",
       "      <th></th>\n",
       "      <th>Units Sold</th>\n",
       "      <th>Month Number</th>\n",
       "      <th>Year</th>\n",
       "    </tr>\n",
       "    <tr>\n",
       "      <th>Segment</th>\n",
       "      <th></th>\n",
       "      <th></th>\n",
       "      <th></th>\n",
       "    </tr>\n",
       "  </thead>\n",
       "  <tbody>\n",
       "    <tr>\n",
       "      <th>Channel Partners</th>\n",
       "      <td>161263.5</td>\n",
       "      <td>790</td>\n",
       "      <td>201375</td>\n",
       "    </tr>\n",
       "    <tr>\n",
       "      <th>Enterprise</th>\n",
       "      <td>168552.0</td>\n",
       "      <td>790</td>\n",
       "      <td>201375</td>\n",
       "    </tr>\n",
       "    <tr>\n",
       "      <th>Government</th>\n",
       "      <td>470673.5</td>\n",
       "      <td>2370</td>\n",
       "      <td>604125</td>\n",
       "    </tr>\n",
       "    <tr>\n",
       "      <th>Midmarket</th>\n",
       "      <td>172178.0</td>\n",
       "      <td>790</td>\n",
       "      <td>201375</td>\n",
       "    </tr>\n",
       "    <tr>\n",
       "      <th>Small Business</th>\n",
       "      <td>153139.0</td>\n",
       "      <td>790</td>\n",
       "      <td>201375</td>\n",
       "    </tr>\n",
       "  </tbody>\n",
       "</table>\n",
       "</div>"
      ],
      "text/plain": [
       "                  Units Sold  Month Number    Year\n",
       "Segment                                           \n",
       "Channel Partners    161263.5           790  201375\n",
       "Enterprise          168552.0           790  201375\n",
       "Government          470673.5          2370  604125\n",
       "Midmarket           172178.0           790  201375\n",
       "Small Business      153139.0           790  201375"
      ]
     },
     "execution_count": 233,
     "metadata": {},
     "output_type": "execute_result"
    }
   ],
   "source": [
    "finance.groupby('Segment').sum(numeric_only=True).head()"
   ]
  },
  {
   "cell_type": "code",
   "execution_count": null,
   "id": "f9066010",
   "metadata": {},
   "outputs": [],
   "source": []
  },
  {
   "cell_type": "code",
   "execution_count": null,
   "id": "b146c7f7",
   "metadata": {},
   "outputs": [],
   "source": []
  },
  {
   "cell_type": "code",
   "execution_count": null,
   "id": "2893e05e",
   "metadata": {},
   "outputs": [],
   "source": []
  },
  {
   "cell_type": "code",
   "execution_count": null,
   "id": "e7f0745d",
   "metadata": {},
   "outputs": [],
   "source": []
  }
 ],
 "metadata": {
  "kernelspec": {
   "display_name": "Python 3 (ipykernel)",
   "language": "python",
   "name": "python3"
  },
  "language_info": {
   "codemirror_mode": {
    "name": "ipython",
    "version": 3
   },
   "file_extension": ".py",
   "mimetype": "text/x-python",
   "name": "python",
   "nbconvert_exporter": "python",
   "pygments_lexer": "ipython3",
   "version": "3.11.3"
  }
 },
 "nbformat": 4,
 "nbformat_minor": 5
}
