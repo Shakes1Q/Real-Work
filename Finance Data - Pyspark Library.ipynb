{
 "cells": [
  {
   "cell_type": "code",
   "execution_count": 43,
   "id": "ffce2dd8",
   "metadata": {},
   "outputs": [],
   "source": [
    "from pyspark.sql import SparkSession\n",
    "from pyspark.sql.functions import col"
   ]
  },
  {
   "cell_type": "code",
   "execution_count": 2,
   "id": "d925e859",
   "metadata": {},
   "outputs": [],
   "source": [
    "spark = SparkSession.builder.appName('Finance').getOrCreate()"
   ]
  },
  {
   "cell_type": "code",
   "execution_count": 3,
   "id": "f0c6b9fa",
   "metadata": {},
   "outputs": [
    {
     "data": {
      "text/html": [
       "\n",
       "            <div>\n",
       "                <p><b>SparkSession - in-memory</b></p>\n",
       "                \n",
       "        <div>\n",
       "            <p><b>SparkContext</b></p>\n",
       "\n",
       "            <p><a href=\"http://ShakesQ:4040\">Spark UI</a></p>\n",
       "\n",
       "            <dl>\n",
       "              <dt>Version</dt>\n",
       "                <dd><code>v3.4.1</code></dd>\n",
       "              <dt>Master</dt>\n",
       "                <dd><code>local[*]</code></dd>\n",
       "              <dt>AppName</dt>\n",
       "                <dd><code>Finance</code></dd>\n",
       "            </dl>\n",
       "        </div>\n",
       "        \n",
       "            </div>\n",
       "        "
      ],
      "text/plain": [
       "<pyspark.sql.session.SparkSession at 0x19d01ceba90>"
      ]
     },
     "execution_count": 3,
     "metadata": {},
     "output_type": "execute_result"
    }
   ],
   "source": [
    "spark"
   ]
  },
  {
   "cell_type": "code",
   "execution_count": 8,
   "id": "7f2824f0",
   "metadata": {},
   "outputs": [],
   "source": [
    "#Read the dataset\n",
    "df_pyspark=spark.read.csv('FinanceData.csv', header=True, inferSchema=True)"
   ]
  },
  {
   "cell_type": "code",
   "execution_count": 10,
   "id": "6043e8b7",
   "metadata": {},
   "outputs": [
    {
     "name": "stdout",
     "output_type": "stream",
     "text": [
      "+----------+-------+-----------+---------------+----------+---------------------+------------+-------------+-----------+------------+---------------------------+------------+--------+------------+------------+----+\n",
      "|   Segment|Country|   Product | Discount Band |Units Sold| Manufacturing Price | Sale Price | Gross Sales | Discounts |      Sales | COGS (Cost of Goods sold) |     Profit |    Date|Month Number| Month Name |Year|\n",
      "+----------+-------+-----------+---------------+----------+---------------------+------------+-------------+-----------+------------+---------------------------+------------+--------+------------+------------+----+\n",
      "|Government| Canada| Carretera |          None |    1618.5|               $3.00 |     $20.00 |  $32,370.00 |      $-   | $32,370.00 |                $16,185.00 | $16,185.00 |1/1/2014|           1|    January |2014|\n",
      "|Government|Germany| Carretera |          None |    1321.0|               $3.00 |     $20.00 |  $26,420.00 |      $-   | $26,420.00 |                $13,210.00 | $13,210.00 |1/1/2014|           1|    January |2014|\n",
      "| Midmarket| France| Carretera |          None |    2178.0|               $3.00 |     $15.00 |  $32,670.00 |      $-   | $32,670.00 |                $21,780.00 | $10,890.00 |6/1/2014|           6|       June |2014|\n",
      "+----------+-------+-----------+---------------+----------+---------------------+------------+-------------+-----------+------------+---------------------------+------------+--------+------------+------------+----+\n",
      "only showing top 3 rows\n",
      "\n"
     ]
    }
   ],
   "source": [
    "df_pyspark.show(3)"
   ]
  },
  {
   "cell_type": "code",
   "execution_count": 11,
   "id": "e56d34ce",
   "metadata": {},
   "outputs": [
    {
     "name": "stdout",
     "output_type": "stream",
     "text": [
      "root\n",
      " |-- Segment: string (nullable = true)\n",
      " |-- Country: string (nullable = true)\n",
      " |--  Product : string (nullable = true)\n",
      " |--  Discount Band : string (nullable = true)\n",
      " |-- Units Sold: double (nullable = true)\n",
      " |--  Manufacturing Price : string (nullable = true)\n",
      " |--  Sale Price : string (nullable = true)\n",
      " |--  Gross Sales : string (nullable = true)\n",
      " |--  Discounts : string (nullable = true)\n",
      " |--   Sales : string (nullable = true)\n",
      " |--  COGS (Cost of Goods sold) : string (nullable = true)\n",
      " |--  Profit : string (nullable = true)\n",
      " |-- Date: string (nullable = true)\n",
      " |-- Month Number: integer (nullable = true)\n",
      " |--  Month Name : string (nullable = true)\n",
      " |-- Year: integer (nullable = true)\n",
      "\n"
     ]
    }
   ],
   "source": [
    "## Checking the Schema\n",
    "df_pyspark.printSchema()"
   ]
  },
  {
   "cell_type": "code",
   "execution_count": 13,
   "id": "459d30b7",
   "metadata": {},
   "outputs": [
    {
     "data": {
      "text/plain": [
       "pyspark.sql.dataframe.DataFrame"
      ]
     },
     "execution_count": 13,
     "metadata": {},
     "output_type": "execute_result"
    }
   ],
   "source": [
    "## Check DataFrame\n",
    "type(df_pyspark)"
   ]
  },
  {
   "cell_type": "code",
   "execution_count": 15,
   "id": "3fc504a1",
   "metadata": {},
   "outputs": [
    {
     "data": {
      "text/plain": [
       "[Row(Segment='Government', Country='Canada',  Product =' Carretera ',  Discount Band =' None ', Units Sold=1618.5,  Manufacturing Price =' $3.00 ',  Sale Price =' $20.00 ',  Gross Sales =' $32,370.00 ',  Discounts =' $-   ',   Sales =' $32,370.00 ',  COGS (Cost of Goods sold) =' $16,185.00 ',  Profit =' $16,185.00 ', Date='1/1/2014', Month Number=1,  Month Name =' January ', Year=2014)]"
      ]
     },
     "execution_count": 15,
     "metadata": {},
     "output_type": "execute_result"
    }
   ],
   "source": [
    "df_pyspark.head(1)"
   ]
  },
  {
   "cell_type": "code",
   "execution_count": 25,
   "id": "93f5178f",
   "metadata": {},
   "outputs": [
    {
     "name": "stdout",
     "output_type": "stream",
     "text": [
      "+-------+------------+\n",
      "|Country|Month Number|\n",
      "+-------+------------+\n",
      "| Canada|           1|\n",
      "|Germany|           1|\n",
      "| France|           6|\n",
      "|Germany|           6|\n",
      "| Mexico|           6|\n",
      "|Germany|          12|\n",
      "|Germany|           3|\n",
      "| Canada|           6|\n",
      "| France|           6|\n",
      "|Germany|           6|\n",
      "+-------+------------+\n",
      "only showing top 10 rows\n",
      "\n"
     ]
    }
   ],
   "source": [
    "##selecting columns and indexing\n",
    "df_pyspark.select(['Country','Month Number']).show(10)"
   ]
  },
  {
   "cell_type": "code",
   "execution_count": 36,
   "id": "9670feda",
   "metadata": {},
   "outputs": [
    {
     "data": {
      "text/plain": [
       "DataFrame[Segment: string, Country: string,  Product : string,  Discount Band : string, Units Sold: double,  Manufacturing Price : string,  Sale Price : string,  Gross Sales : string,  Discounts : string,   Sales : string,  COGS (Cost of Goods sold) : string,  Profit : string, Date: string, Month Number: int,  Month Name : string, Year: int]"
      ]
     },
     "execution_count": 36,
     "metadata": {},
     "output_type": "execute_result"
    }
   ],
   "source": [
    "## drop null values\n",
    "df_pyspark.na.drop()"
   ]
  },
  {
   "cell_type": "code",
   "execution_count": 45,
   "id": "a9170797",
   "metadata": {},
   "outputs": [
    {
     "name": "stdout",
     "output_type": "stream",
     "text": [
      "+-------+-------+---------+---------------+----------+---------------------+------------+-------------+-----------+--------+---------------------------+--------+----+------------+------------+----+-----+\n",
      "|Segment|Country| Product | Discount Band |Units Sold| Manufacturing Price | Sale Price | Gross Sales | Discounts |  Sales | COGS (Cost of Goods sold) | Profit |Date|Month Number| Month Name |Year|count|\n",
      "+-------+-------+---------+---------------+----------+---------------------+------------+-------------+-----------+--------+---------------------------+--------+----+------------+------------+----+-----+\n",
      "+-------+-------+---------+---------------+----------+---------------------+------------+-------------+-----------+--------+---------------------------+--------+----+------------+------------+----+-----+\n",
      "\n"
     ]
    }
   ],
   "source": [
    "## Searching for duplicates values\n",
    "duplicates = df_pyspark.groupBy(*df_pyspark.columns).count().where(col(\"count\") > 1)\n",
    "duplicates.show()"
   ]
  },
  {
   "cell_type": "code",
   "execution_count": null,
   "id": "daeb6afa",
   "metadata": {},
   "outputs": [],
   "source": []
  },
  {
   "cell_type": "code",
   "execution_count": null,
   "id": "34ce08c1",
   "metadata": {},
   "outputs": [],
   "source": []
  }
 ],
 "metadata": {
  "kernelspec": {
   "display_name": "Python 3 (ipykernel)",
   "language": "python",
   "name": "python3"
  },
  "language_info": {
   "codemirror_mode": {
    "name": "ipython",
    "version": 3
   },
   "file_extension": ".py",
   "mimetype": "text/x-python",
   "name": "python",
   "nbconvert_exporter": "python",
   "pygments_lexer": "ipython3",
   "version": "3.11.3"
  }
 },
 "nbformat": 4,
 "nbformat_minor": 5
}
